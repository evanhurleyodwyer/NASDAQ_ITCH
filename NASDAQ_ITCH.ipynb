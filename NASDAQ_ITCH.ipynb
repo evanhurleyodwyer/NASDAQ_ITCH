{
 "cells": [
  {
   "cell_type": "code",
   "execution_count": 10,
   "metadata": {},
   "outputs": [],
   "source": [
    "import pandas as pd\n",
    "import datetime"
   ]
  },
  {
   "cell_type": "code",
   "execution_count": 2,
   "metadata": {},
   "outputs": [
    {
     "name": "stderr",
     "output_type": "stream",
     "text": [
      "C:\\Users\\Hurle\\AppData\\Local\\Temp\\ipykernel_20948\\1427644825.py:1: DtypeWarning: Columns (4,6,8,9,10,11,12,13,14,15,17) have mixed types. Specify dtype option on import or set low_memory=False.\n",
      "  df = pd.read_csv('parsed2.csv',header=None, names = range(18), nrows = 11000000)\n"
     ]
    }
   ],
   "source": [
    "df = pd.read_csv('parsed2.csv',header=None, names = range(18), nrows = 11000000)"
   ]
  },
  {
   "cell_type": "code",
   "execution_count": 3,
   "metadata": {},
   "outputs": [
    {
     "data": {
      "text/html": [
       "<div>\n",
       "<style scoped>\n",
       "    .dataframe tbody tr th:only-of-type {\n",
       "        vertical-align: middle;\n",
       "    }\n",
       "\n",
       "    .dataframe tbody tr th {\n",
       "        vertical-align: top;\n",
       "    }\n",
       "\n",
       "    .dataframe thead th {\n",
       "        text-align: right;\n",
       "    }\n",
       "</style>\n",
       "<table border=\"1\" class=\"dataframe\">\n",
       "  <thead>\n",
       "    <tr style=\"text-align: right;\">\n",
       "      <th></th>\n",
       "      <th>0</th>\n",
       "      <th>1</th>\n",
       "      <th>2</th>\n",
       "      <th>3</th>\n",
       "      <th>4</th>\n",
       "      <th>5</th>\n",
       "      <th>6</th>\n",
       "      <th>7</th>\n",
       "      <th>8</th>\n",
       "      <th>9</th>\n",
       "      <th>10</th>\n",
       "      <th>11</th>\n",
       "      <th>12</th>\n",
       "      <th>13</th>\n",
       "      <th>14</th>\n",
       "      <th>15</th>\n",
       "      <th>16</th>\n",
       "      <th>17</th>\n",
       "    </tr>\n",
       "  </thead>\n",
       "  <tbody>\n",
       "    <tr>\n",
       "      <th>0</th>\n",
       "      <td>S</td>\n",
       "      <td>0</td>\n",
       "      <td>0</td>\n",
       "      <td>10970642174571</td>\n",
       "      <td>O</td>\n",
       "      <td>NaN</td>\n",
       "      <td>NaN</td>\n",
       "      <td>NaN</td>\n",
       "      <td>NaN</td>\n",
       "      <td>NaN</td>\n",
       "      <td>NaN</td>\n",
       "      <td>NaN</td>\n",
       "      <td>NaN</td>\n",
       "      <td>NaN</td>\n",
       "      <td>NaN</td>\n",
       "      <td>NaN</td>\n",
       "      <td>NaN</td>\n",
       "      <td>NaN</td>\n",
       "    </tr>\n",
       "    <tr>\n",
       "      <th>237169</th>\n",
       "      <td>S</td>\n",
       "      <td>0</td>\n",
       "      <td>0</td>\n",
       "      <td>14400000186600</td>\n",
       "      <td>S</td>\n",
       "      <td>NaN</td>\n",
       "      <td>NaN</td>\n",
       "      <td>NaN</td>\n",
       "      <td>NaN</td>\n",
       "      <td>NaN</td>\n",
       "      <td>NaN</td>\n",
       "      <td>NaN</td>\n",
       "      <td>NaN</td>\n",
       "      <td>NaN</td>\n",
       "      <td>NaN</td>\n",
       "      <td>NaN</td>\n",
       "      <td>NaN</td>\n",
       "      <td>NaN</td>\n",
       "    </tr>\n",
       "    <tr>\n",
       "      <th>10411212</th>\n",
       "      <td>S</td>\n",
       "      <td>0</td>\n",
       "      <td>0</td>\n",
       "      <td>34200000075128</td>\n",
       "      <td>Q</td>\n",
       "      <td>NaN</td>\n",
       "      <td>NaN</td>\n",
       "      <td>NaN</td>\n",
       "      <td>NaN</td>\n",
       "      <td>NaN</td>\n",
       "      <td>NaN</td>\n",
       "      <td>NaN</td>\n",
       "      <td>NaN</td>\n",
       "      <td>NaN</td>\n",
       "      <td>NaN</td>\n",
       "      <td>NaN</td>\n",
       "      <td>NaN</td>\n",
       "      <td>NaN</td>\n",
       "    </tr>\n",
       "  </tbody>\n",
       "</table>\n",
       "</div>"
      ],
      "text/plain": [
       "         0   1   2               3  4    5    6    7    8    9    10   11  \\\n",
       "0         S   0   0  10970642174571  O  NaN  NaN  NaN  NaN  NaN  NaN  NaN   \n",
       "237169    S   0   0  14400000186600  S  NaN  NaN  NaN  NaN  NaN  NaN  NaN   \n",
       "10411212  S   0   0  34200000075128  Q  NaN  NaN  NaN  NaN  NaN  NaN  NaN   \n",
       "\n",
       "           12   13   14   15  16   17  \n",
       "0         NaN  NaN  NaN  NaN NaN  NaN  \n",
       "237169    NaN  NaN  NaN  NaN NaN  NaN  \n",
       "10411212  NaN  NaN  NaN  NaN NaN  NaN  "
      ]
     },
     "execution_count": 3,
     "metadata": {},
     "output_type": "execute_result"
    }
   ],
   "source": [
    "df[df[0] == \"S\"]"
   ]
  },
  {
   "cell_type": "code",
   "execution_count": 6,
   "metadata": {},
   "outputs": [],
   "source": [
    "sys_df = df[df[0] == \"S\"]\n",
    "sys_df = sys_df[[0,1,2,3,4]]\n",
    "sys_df.columns = [\"Code\",\"num1\",\"num2\",\"ts\",\"sys_code\"]"
   ]
  },
  {
   "cell_type": "code",
   "execution_count": 7,
   "metadata": {},
   "outputs": [],
   "source": [
    "stock_df = df[df[0] == 'R']\n",
    "stock_df = stock_df.reset_index(drop=True)\n",
    "stock_df.columns = [\"Message_type\",\"Stock_locate\",\"Tracking_num\",\"Ts\",\"Stock\",\"Market_cat\",\"Financial_status\",\"Round_lot_size\",\"Round_lots_only\",\"issue_class\",\"issue_subtype\",\"authenticity\",\"SSTI\",\"IPO\",\"LULD\",\"ETP\",\"Lev\",\"Inv\"]"
   ]
  },
  {
   "cell_type": "code",
   "execution_count": 8,
   "metadata": {},
   "outputs": [
    {
     "data": {
      "text/html": [
       "<div>\n",
       "<style scoped>\n",
       "    .dataframe tbody tr th:only-of-type {\n",
       "        vertical-align: middle;\n",
       "    }\n",
       "\n",
       "    .dataframe tbody tr th {\n",
       "        vertical-align: top;\n",
       "    }\n",
       "\n",
       "    .dataframe thead th {\n",
       "        text-align: right;\n",
       "    }\n",
       "</style>\n",
       "<table border=\"1\" class=\"dataframe\">\n",
       "  <thead>\n",
       "    <tr style=\"text-align: right;\">\n",
       "      <th></th>\n",
       "      <th>Message_type</th>\n",
       "      <th>Stock_locate</th>\n",
       "      <th>Tracking_num</th>\n",
       "      <th>Ts</th>\n",
       "      <th>Stock</th>\n",
       "      <th>Market_cat</th>\n",
       "      <th>Financial_status</th>\n",
       "      <th>Round_lot_size</th>\n",
       "      <th>Round_lots_only</th>\n",
       "      <th>issue_class</th>\n",
       "      <th>issue_subtype</th>\n",
       "      <th>authenticity</th>\n",
       "      <th>SSTI</th>\n",
       "      <th>IPO</th>\n",
       "      <th>LULD</th>\n",
       "      <th>ETP</th>\n",
       "      <th>Lev</th>\n",
       "      <th>Inv</th>\n",
       "    </tr>\n",
       "  </thead>\n",
       "  <tbody>\n",
       "    <tr>\n",
       "      <th>0</th>\n",
       "      <td>R</td>\n",
       "      <td>1</td>\n",
       "      <td>0</td>\n",
       "      <td>11240690615180</td>\n",
       "      <td>A</td>\n",
       "      <td>N</td>\n",
       "      <td></td>\n",
       "      <td>100</td>\n",
       "      <td>N</td>\n",
       "      <td>C</td>\n",
       "      <td>Z</td>\n",
       "      <td>P</td>\n",
       "      <td>N</td>\n",
       "      <td></td>\n",
       "      <td>1</td>\n",
       "      <td>N</td>\n",
       "      <td>0.0</td>\n",
       "      <td>N</td>\n",
       "    </tr>\n",
       "    <tr>\n",
       "      <th>1</th>\n",
       "      <td>R</td>\n",
       "      <td>2</td>\n",
       "      <td>0</td>\n",
       "      <td>11240690740789</td>\n",
       "      <td>AA</td>\n",
       "      <td>N</td>\n",
       "      <td></td>\n",
       "      <td>100</td>\n",
       "      <td>N</td>\n",
       "      <td>C</td>\n",
       "      <td>Z</td>\n",
       "      <td>P</td>\n",
       "      <td>N</td>\n",
       "      <td></td>\n",
       "      <td>1</td>\n",
       "      <td>N</td>\n",
       "      <td>1.0</td>\n",
       "      <td>N</td>\n",
       "    </tr>\n",
       "    <tr>\n",
       "      <th>2</th>\n",
       "      <td>R</td>\n",
       "      <td>3</td>\n",
       "      <td>0</td>\n",
       "      <td>11240690786821</td>\n",
       "      <td>AAAU</td>\n",
       "      <td>P</td>\n",
       "      <td></td>\n",
       "      <td>100</td>\n",
       "      <td>N</td>\n",
       "      <td>Q</td>\n",
       "      <td>I</td>\n",
       "      <td>P</td>\n",
       "      <td>N</td>\n",
       "      <td></td>\n",
       "      <td>2</td>\n",
       "      <td>Y</td>\n",
       "      <td>1.0</td>\n",
       "      <td>N</td>\n",
       "    </tr>\n",
       "    <tr>\n",
       "      <th>3</th>\n",
       "      <td>R</td>\n",
       "      <td>4</td>\n",
       "      <td>0</td>\n",
       "      <td>11240690840751</td>\n",
       "      <td>AABA</td>\n",
       "      <td>Q</td>\n",
       "      <td>N</td>\n",
       "      <td>100</td>\n",
       "      <td>N</td>\n",
       "      <td>C</td>\n",
       "      <td>Q</td>\n",
       "      <td>P</td>\n",
       "      <td>N</td>\n",
       "      <td>N</td>\n",
       "      <td>2</td>\n",
       "      <td>N</td>\n",
       "      <td>1.0</td>\n",
       "      <td>N</td>\n",
       "    </tr>\n",
       "    <tr>\n",
       "      <th>4</th>\n",
       "      <td>R</td>\n",
       "      <td>5</td>\n",
       "      <td>0</td>\n",
       "      <td>11240690884618</td>\n",
       "      <td>AAC</td>\n",
       "      <td>N</td>\n",
       "      <td></td>\n",
       "      <td>100</td>\n",
       "      <td>N</td>\n",
       "      <td>C</td>\n",
       "      <td>Z</td>\n",
       "      <td>P</td>\n",
       "      <td>N</td>\n",
       "      <td></td>\n",
       "      <td>2</td>\n",
       "      <td>N</td>\n",
       "      <td>0.0</td>\n",
       "      <td>N</td>\n",
       "    </tr>\n",
       "    <tr>\n",
       "      <th>...</th>\n",
       "      <td>...</td>\n",
       "      <td>...</td>\n",
       "      <td>...</td>\n",
       "      <td>...</td>\n",
       "      <td>...</td>\n",
       "      <td>...</td>\n",
       "      <td>...</td>\n",
       "      <td>...</td>\n",
       "      <td>...</td>\n",
       "      <td>...</td>\n",
       "      <td>...</td>\n",
       "      <td>...</td>\n",
       "      <td>...</td>\n",
       "      <td>...</td>\n",
       "      <td>...</td>\n",
       "      <td>...</td>\n",
       "      <td>...</td>\n",
       "      <td>...</td>\n",
       "    </tr>\n",
       "    <tr>\n",
       "      <th>8844</th>\n",
       "      <td>R</td>\n",
       "      <td>8845</td>\n",
       "      <td>0</td>\n",
       "      <td>11240925383765</td>\n",
       "      <td>ZXYZ.A</td>\n",
       "      <td>Q</td>\n",
       "      <td>N</td>\n",
       "      <td>100</td>\n",
       "      <td>N</td>\n",
       "      <td>C</td>\n",
       "      <td>Z</td>\n",
       "      <td>T</td>\n",
       "      <td>N</td>\n",
       "      <td>N</td>\n",
       "      <td>2</td>\n",
       "      <td>N</td>\n",
       "      <td>1.0</td>\n",
       "      <td>N</td>\n",
       "    </tr>\n",
       "    <tr>\n",
       "      <th>8845</th>\n",
       "      <td>R</td>\n",
       "      <td>8846</td>\n",
       "      <td>0</td>\n",
       "      <td>11240925418549</td>\n",
       "      <td>ZXZZT</td>\n",
       "      <td>G</td>\n",
       "      <td>N</td>\n",
       "      <td>100</td>\n",
       "      <td>N</td>\n",
       "      <td>W</td>\n",
       "      <td>Z</td>\n",
       "      <td>T</td>\n",
       "      <td>N</td>\n",
       "      <td>N</td>\n",
       "      <td>2</td>\n",
       "      <td>N</td>\n",
       "      <td>1.0</td>\n",
       "      <td>N</td>\n",
       "    </tr>\n",
       "    <tr>\n",
       "      <th>8846</th>\n",
       "      <td>R</td>\n",
       "      <td>8847</td>\n",
       "      <td>0</td>\n",
       "      <td>11240925445584</td>\n",
       "      <td>ZYME</td>\n",
       "      <td>N</td>\n",
       "      <td></td>\n",
       "      <td>100</td>\n",
       "      <td>N</td>\n",
       "      <td>C</td>\n",
       "      <td>Z</td>\n",
       "      <td>P</td>\n",
       "      <td>N</td>\n",
       "      <td></td>\n",
       "      <td>2</td>\n",
       "      <td>N</td>\n",
       "      <td>1.0</td>\n",
       "      <td>N</td>\n",
       "    </tr>\n",
       "    <tr>\n",
       "      <th>8847</th>\n",
       "      <td>R</td>\n",
       "      <td>8848</td>\n",
       "      <td>0</td>\n",
       "      <td>11240925470514</td>\n",
       "      <td>ZYNE</td>\n",
       "      <td>G</td>\n",
       "      <td>N</td>\n",
       "      <td>100</td>\n",
       "      <td>N</td>\n",
       "      <td>C</td>\n",
       "      <td>Z</td>\n",
       "      <td>P</td>\n",
       "      <td>N</td>\n",
       "      <td>N</td>\n",
       "      <td>2</td>\n",
       "      <td>N</td>\n",
       "      <td>0.0</td>\n",
       "      <td>N</td>\n",
       "    </tr>\n",
       "    <tr>\n",
       "      <th>8848</th>\n",
       "      <td>R</td>\n",
       "      <td>8849</td>\n",
       "      <td>0</td>\n",
       "      <td>11240925495553</td>\n",
       "      <td>ZYXI</td>\n",
       "      <td>S</td>\n",
       "      <td>N</td>\n",
       "      <td>100</td>\n",
       "      <td>N</td>\n",
       "      <td>C</td>\n",
       "      <td>Z</td>\n",
       "      <td>P</td>\n",
       "      <td>N</td>\n",
       "      <td>N</td>\n",
       "      <td>2</td>\n",
       "      <td>N</td>\n",
       "      <td>1.0</td>\n",
       "      <td>N</td>\n",
       "    </tr>\n",
       "  </tbody>\n",
       "</table>\n",
       "<p>8849 rows × 18 columns</p>\n",
       "</div>"
      ],
      "text/plain": [
       "     Message_type  Stock_locate  Tracking_num              Ts     Stock  \\\n",
       "0               R             1             0  11240690615180  A          \n",
       "1               R             2             0  11240690740789  AA         \n",
       "2               R             3             0  11240690786821  AAAU       \n",
       "3               R             4             0  11240690840751  AABA       \n",
       "4               R             5             0  11240690884618  AAC        \n",
       "...           ...           ...           ...             ...       ...   \n",
       "8844            R          8845             0  11240925383765  ZXYZ.A     \n",
       "8845            R          8846             0  11240925418549  ZXZZT      \n",
       "8846            R          8847             0  11240925445584  ZYME       \n",
       "8847            R          8848             0  11240925470514  ZYNE       \n",
       "8848            R          8849             0  11240925495553  ZYXI       \n",
       "\n",
       "     Market_cat Financial_status Round_lot_size Round_lots_only issue_class  \\\n",
       "0             N                             100               N           C   \n",
       "1             N                             100               N           C   \n",
       "2             P                             100               N           Q   \n",
       "3             Q                N            100               N           C   \n",
       "4             N                             100               N           C   \n",
       "...         ...              ...            ...             ...         ...   \n",
       "8844          Q                N            100               N           C   \n",
       "8845          G                N            100               N           W   \n",
       "8846          N                             100               N           C   \n",
       "8847          G                N            100               N           C   \n",
       "8848          S                N            100               N           C   \n",
       "\n",
       "     issue_subtype authenticity SSTI IPO LULD ETP  Lev Inv  \n",
       "0               Z             P    N        1   N  0.0   N  \n",
       "1               Z             P    N        1   N  1.0   N  \n",
       "2               I             P    N        2   Y  1.0   N  \n",
       "3               Q             P    N   N    2   N  1.0   N  \n",
       "4               Z             P    N        2   N  0.0   N  \n",
       "...            ...          ...  ...  ..  ...  ..  ...  ..  \n",
       "8844            Z             T    N   N    2   N  1.0   N  \n",
       "8845            Z             T    N   N    2   N  1.0   N  \n",
       "8846            Z             P    N        2   N  1.0   N  \n",
       "8847            Z             P    N   N    2   N  0.0   N  \n",
       "8848            Z             P    N   N    2   N  1.0   N  \n",
       "\n",
       "[8849 rows x 18 columns]"
      ]
     },
     "execution_count": 8,
     "metadata": {},
     "output_type": "execute_result"
    }
   ],
   "source": [
    "stock_df"
   ]
  },
  {
   "cell_type": "code",
   "execution_count": 11,
   "metadata": {},
   "outputs": [],
   "source": [
    "#TS operations\n",
    "stock_df[\"Ts_seconds\"] = stock_df['Ts']/1e9\n",
    "stock_df[\"Ts_stamp\"] = stock_df[\"Ts_seconds\"].apply(lambda x: datetime.datetime(2023,2,27) + datetime.timedelta(seconds = x))"
   ]
  },
  {
   "cell_type": "code",
   "execution_count": 12,
   "metadata": {},
   "outputs": [],
   "source": [
    "#Stock_name operations\n",
    "stock_df[\"Stock_normalized\"] = stock_df[\"Stock\"].apply(lambda x: x.split(\" \")[0])"
   ]
  },
  {
   "cell_type": "code",
   "execution_count": 13,
   "metadata": {},
   "outputs": [],
   "source": [
    "#Create Dictionary of stock locate ids\n",
    "locate_dic = dict(zip(stock_df[\"Stock_locate\"],stock_df[\"Stock_normalized\"]))\n",
    "rev_locate = {v: k for k,v in locate_dic.items()}"
   ]
  },
  {
   "cell_type": "code",
   "execution_count": 38,
   "metadata": {},
   "outputs": [],
   "source": [
    "def normalize_series_name(sers):\n",
    "    return sers.apply(lambda x: x.split(\" \")[0])\n",
    "\n",
    "def normalize_time(sers):\n",
    "    return sers.apply(lambda x: datetime.datetime(2023,2,27) + datetime.timedelta(seconds = x/1e9))\n"
   ]
  },
  {
   "cell_type": "code",
   "execution_count": 22,
   "metadata": {},
   "outputs": [],
   "source": [
    "exec_df = df[df[0] == 'E'][[0,1,2,3,4,5,6]].reset_index(drop=True)\n",
    "exec_df.columns = [\"Message_code\",\"Locate\",\"Track\",\"Ts\",\"Ref\",\"Shares\",\"Match\"]"
   ]
  },
  {
   "cell_type": "code",
   "execution_count": 29,
   "metadata": {},
   "outputs": [],
   "source": [
    "exec_df.columns = [\"Message_code\",\"Locate\",\"Track\",\"Ts\",\"Ref\",\"Shares\",\"Match\"]"
   ]
  },
  {
   "cell_type": "code",
   "execution_count": 31,
   "metadata": {},
   "outputs": [],
   "source": [
    "exec_df[\"Stock_normalized\"] = exec_df[\"Locate\"].apply(lambda x: locate_dic[x].split(' ')[0])"
   ]
  },
  {
   "cell_type": "code",
   "execution_count": 42,
   "metadata": {},
   "outputs": [],
   "source": [
    "exec_df[\"Ts_norm\"] = normalize_time(exec_df[exec_df[\"Stock_normalized\"] == 'AAPL'][\"Ts\"])"
   ]
  },
  {
   "cell_type": "code",
   "execution_count": 46,
   "metadata": {},
   "outputs": [],
   "source": [
    "aapl_df = exec_df[exec_df[\"Stock_normalized\"] == 'AAPL'].reset_index(drop=True)"
   ]
  },
  {
   "cell_type": "code",
   "execution_count": null,
   "metadata": {},
   "outputs": [],
   "source": [
    "aapl_adds = df[(df[0]=='A') & (df[7] == 'AAPL    ')]\n",
    "aapl_adds = aapl_adds.iloc[:,0:9]\n",
    "aapl_adds = aapl_adds.reset_index(drop=True)\n",
    "aapl_adds.columns = [\"Mess\",\"Stock\",\"Track\",\"Ts\",\"Order\",\"BS\",\"Shares\",\"Stock_name\",\"Price\"]\n",
    "aapl_adds[\"Stock_name\"] = aapl_adds[\"Stock_name\"].apply(lambda x: x.split(\" \")[0])\n",
    "aapl_adds[\"Price\"] = aapl_adds[\"Price\"].astype(float)"
   ]
  },
  {
   "cell_type": "code",
   "execution_count": 54,
   "metadata": {},
   "outputs": [],
   "source": [
    "aapl_mpid_adds = df[(df[0]=='F') & (df[7] == 'AAPL    ')]"
   ]
  },
  {
   "cell_type": "code",
   "execution_count": 80,
   "metadata": {},
   "outputs": [
    {
     "data": {
      "text/plain": [
       "'1898600'"
      ]
     },
     "execution_count": 80,
     "metadata": {},
     "output_type": "execute_result"
    }
   ],
   "source": [
    "aapl_adds[\"Price\"][0]"
   ]
  },
  {
   "cell_type": "code",
   "execution_count": 71,
   "metadata": {},
   "outputs": [
    {
     "data": {
      "text/html": [
       "<div>\n",
       "<style scoped>\n",
       "    .dataframe tbody tr th:only-of-type {\n",
       "        vertical-align: middle;\n",
       "    }\n",
       "\n",
       "    .dataframe tbody tr th {\n",
       "        vertical-align: top;\n",
       "    }\n",
       "\n",
       "    .dataframe thead th {\n",
       "        text-align: right;\n",
       "    }\n",
       "</style>\n",
       "<table border=\"1\" class=\"dataframe\">\n",
       "  <thead>\n",
       "    <tr style=\"text-align: right;\">\n",
       "      <th></th>\n",
       "      <th>0</th>\n",
       "      <th>1</th>\n",
       "      <th>2</th>\n",
       "      <th>3</th>\n",
       "      <th>4</th>\n",
       "      <th>5</th>\n",
       "      <th>6</th>\n",
       "      <th>7</th>\n",
       "      <th>8</th>\n",
       "    </tr>\n",
       "  </thead>\n",
       "  <tbody>\n",
       "    <tr>\n",
       "      <th>237541</th>\n",
       "      <td>A</td>\n",
       "      <td>14</td>\n",
       "      <td>0</td>\n",
       "      <td>14400023941081</td>\n",
       "      <td>17613</td>\n",
       "      <td>B</td>\n",
       "      <td>53</td>\n",
       "      <td>AAPL</td>\n",
       "      <td>1898600</td>\n",
       "    </tr>\n",
       "    <tr>\n",
       "      <th>240092</th>\n",
       "      <td>A</td>\n",
       "      <td>14</td>\n",
       "      <td>0</td>\n",
       "      <td>14400756946890</td>\n",
       "      <td>52437</td>\n",
       "      <td>S</td>\n",
       "      <td>1</td>\n",
       "      <td>AAPL</td>\n",
       "      <td>2170500</td>\n",
       "    </tr>\n",
       "    <tr>\n",
       "      <th>240266</th>\n",
       "      <td>A</td>\n",
       "      <td>14</td>\n",
       "      <td>0</td>\n",
       "      <td>14400761460097</td>\n",
       "      <td>52669</td>\n",
       "      <td>B</td>\n",
       "      <td>1</td>\n",
       "      <td>AAPL</td>\n",
       "      <td>2052000</td>\n",
       "    </tr>\n",
       "    <tr>\n",
       "      <th>240593</th>\n",
       "      <td>A</td>\n",
       "      <td>14</td>\n",
       "      <td>0</td>\n",
       "      <td>14400769923694</td>\n",
       "      <td>53005</td>\n",
       "      <td>B</td>\n",
       "      <td>3</td>\n",
       "      <td>AAPL</td>\n",
       "      <td>2014800</td>\n",
       "    </tr>\n",
       "    <tr>\n",
       "      <th>240650</th>\n",
       "      <td>A</td>\n",
       "      <td>14</td>\n",
       "      <td>0</td>\n",
       "      <td>14400771392054</td>\n",
       "      <td>53069</td>\n",
       "      <td>S</td>\n",
       "      <td>2</td>\n",
       "      <td>AAPL</td>\n",
       "      <td>2280000</td>\n",
       "    </tr>\n",
       "    <tr>\n",
       "      <th>...</th>\n",
       "      <td>...</td>\n",
       "      <td>...</td>\n",
       "      <td>...</td>\n",
       "      <td>...</td>\n",
       "      <td>...</td>\n",
       "      <td>...</td>\n",
       "      <td>...</td>\n",
       "      <td>...</td>\n",
       "      <td>...</td>\n",
       "    </tr>\n",
       "    <tr>\n",
       "      <th>10964949</th>\n",
       "      <td>A</td>\n",
       "      <td>14</td>\n",
       "      <td>0</td>\n",
       "      <td>34201097623576</td>\n",
       "      <td>9919517</td>\n",
       "      <td>B</td>\n",
       "      <td>100.0</td>\n",
       "      <td>AAPL</td>\n",
       "      <td>2086100</td>\n",
       "    </tr>\n",
       "    <tr>\n",
       "      <th>10964965</th>\n",
       "      <td>A</td>\n",
       "      <td>14</td>\n",
       "      <td>0</td>\n",
       "      <td>34201097676372</td>\n",
       "      <td>9919537</td>\n",
       "      <td>B</td>\n",
       "      <td>5.0</td>\n",
       "      <td>AAPL</td>\n",
       "      <td>2086100</td>\n",
       "    </tr>\n",
       "    <tr>\n",
       "      <th>10973100</th>\n",
       "      <td>A</td>\n",
       "      <td>14</td>\n",
       "      <td>0</td>\n",
       "      <td>34201140584010</td>\n",
       "      <td>9927785</td>\n",
       "      <td>S</td>\n",
       "      <td>1200.0</td>\n",
       "      <td>AAPL</td>\n",
       "      <td>2086600</td>\n",
       "    </tr>\n",
       "    <tr>\n",
       "      <th>10995279</th>\n",
       "      <td>A</td>\n",
       "      <td>14</td>\n",
       "      <td>0</td>\n",
       "      <td>34201259074296</td>\n",
       "      <td>9948741</td>\n",
       "      <td>B</td>\n",
       "      <td>250.0</td>\n",
       "      <td>AAPL</td>\n",
       "      <td>2085200.0</td>\n",
       "    </tr>\n",
       "    <tr>\n",
       "      <th>10996432</th>\n",
       "      <td>A</td>\n",
       "      <td>14</td>\n",
       "      <td>0</td>\n",
       "      <td>34201265007632</td>\n",
       "      <td>9949761</td>\n",
       "      <td>S</td>\n",
       "      <td>100.0</td>\n",
       "      <td>AAPL</td>\n",
       "      <td>2106900.0</td>\n",
       "    </tr>\n",
       "  </tbody>\n",
       "</table>\n",
       "<p>5576 rows × 9 columns</p>\n",
       "</div>"
      ],
      "text/plain": [
       "          0   1  2               3        4  5       6         7          8\n",
       "237541    A  14  0  14400023941081    17613  B      53  AAPL        1898600\n",
       "240092    A  14  0  14400756946890    52437  S       1  AAPL        2170500\n",
       "240266    A  14  0  14400761460097    52669  B       1  AAPL        2052000\n",
       "240593    A  14  0  14400769923694    53005  B       3  AAPL        2014800\n",
       "240650    A  14  0  14400771392054    53069  S       2  AAPL        2280000\n",
       "...      ..  .. ..             ...      ... ..     ...       ...        ...\n",
       "10964949  A  14  0  34201097623576  9919517  B   100.0  AAPL        2086100\n",
       "10964965  A  14  0  34201097676372  9919537  B     5.0  AAPL        2086100\n",
       "10973100  A  14  0  34201140584010  9927785  S  1200.0  AAPL        2086600\n",
       "10995279  A  14  0  34201259074296  9948741  B   250.0  AAPL      2085200.0\n",
       "10996432  A  14  0  34201265007632  9949761  S   100.0  AAPL      2106900.0\n",
       "\n",
       "[5576 rows x 9 columns]"
      ]
     },
     "execution_count": 71,
     "metadata": {},
     "output_type": "execute_result"
    }
   ],
   "source": []
  },
  {
   "cell_type": "code",
   "execution_count": 59,
   "metadata": {},
   "outputs": [
    {
     "data": {
      "text/plain": [
       "14"
      ]
     },
     "execution_count": 59,
     "metadata": {},
     "output_type": "execute_result"
    }
   ],
   "source": [
    "rev_locate['AAPL']"
   ]
  },
  {
   "cell_type": "code",
   "execution_count": 61,
   "metadata": {},
   "outputs": [],
   "source": [
    "aapl_cancels = df[(df[0]=='X') & (df[1] == 14)]"
   ]
  },
  {
   "cell_type": "code",
   "execution_count": 64,
   "metadata": {},
   "outputs": [],
   "source": [
    "aapl_dels = df[(df[0]=='D') & (df[1] == 14)]"
   ]
  },
  {
   "cell_type": "code",
   "execution_count": 68,
   "metadata": {},
   "outputs": [],
   "source": [
    "aapl_replaces = df[(df[0]=='U') & (df[1] == 14)]"
   ]
  },
  {
   "cell_type": "code",
   "execution_count": 87,
   "metadata": {},
   "outputs": [
    {
     "data": {
      "text/plain": [
       "0      2023-02-27 03:07:20.690615\n",
       "1      2023-02-27 03:07:20.690741\n",
       "2      2023-02-27 03:07:20.690787\n",
       "3      2023-02-27 03:07:20.690841\n",
       "4      2023-02-27 03:07:20.690885\n",
       "                  ...            \n",
       "8844   2023-02-27 03:07:20.925384\n",
       "8845   2023-02-27 03:07:20.925419\n",
       "8846   2023-02-27 03:07:20.925446\n",
       "8847   2023-02-27 03:07:20.925471\n",
       "8848   2023-02-27 03:07:20.925496\n",
       "Name: Ts_seconds, Length: 8849, dtype: datetime64[ns]"
      ]
     },
     "execution_count": 87,
     "metadata": {},
     "output_type": "execute_result"
    }
   ],
   "source": []
  },
  {
   "cell_type": "code",
   "execution_count": 82,
   "metadata": {},
   "outputs": [
    {
     "ename": "TypeError",
     "evalue": "unsupported type for timedelta seconds component: Series",
     "output_type": "error",
     "traceback": [
      "\u001b[1;31m---------------------------------------------------------------------------\u001b[0m",
      "\u001b[1;31mTypeError\u001b[0m                                 Traceback (most recent call last)",
      "Cell \u001b[1;32mIn[82], line 1\u001b[0m\n\u001b[1;32m----> 1\u001b[0m datetime\u001b[39m.\u001b[39mdatetime(\u001b[39m2023\u001b[39m,\u001b[39m2\u001b[39m,\u001b[39m27\u001b[39m) \u001b[39m+\u001b[39m datetime\u001b[39m.\u001b[39;49mtimedelta(seconds \u001b[39m=\u001b[39;49m stock_df[\u001b[39m'\u001b[39;49m\u001b[39mTs_seconds\u001b[39;49m\u001b[39m'\u001b[39;49m])\n",
      "\u001b[1;31mTypeError\u001b[0m: unsupported type for timedelta seconds component: Series"
     ]
    }
   ],
   "source": []
  },
  {
   "cell_type": "code",
   "execution_count": 59,
   "metadata": {},
   "outputs": [
    {
     "data": {
      "text/plain": [
       "0       11240.690615\n",
       "1       11240.690741\n",
       "2       11240.690787\n",
       "3       11240.690841\n",
       "4       11240.690885\n",
       "            ...     \n",
       "8844    11240.925384\n",
       "8845    11240.925419\n",
       "8846    11240.925446\n",
       "8847    11240.925471\n",
       "8848    11240.925496\n",
       "Name: Ts_seconds, Length: 8849, dtype: float64"
      ]
     },
     "execution_count": 59,
     "metadata": {},
     "output_type": "execute_result"
    }
   ],
   "source": [
    "stock_df[\"Ts_seconds\"] = datetime.datetime(2023,2,27) + datetime.timedelta(seconds = 11240)"
   ]
  },
  {
   "cell_type": "code",
   "execution_count": 62,
   "metadata": {},
   "outputs": [],
   "source": [
    "import datetime"
   ]
  },
  {
   "cell_type": "code",
   "execution_count": 63,
   "metadata": {},
   "outputs": [],
   "source": [
    "td = datetime.timedelta(seconds = 11240)"
   ]
  },
  {
   "cell_type": "code",
   "execution_count": 81,
   "metadata": {},
   "outputs": [
    {
     "data": {
      "text/plain": [
       "datetime.datetime(2023, 2, 27, 3, 7, 20)"
      ]
     },
     "execution_count": 81,
     "metadata": {},
     "output_type": "execute_result"
    }
   ],
   "source": [
    "datetime.datetime(2023,2,27) + td"
   ]
  },
  {
   "cell_type": "code",
   "execution_count": 78,
   "metadata": {},
   "outputs": [
    {
     "data": {
      "text/plain": [
       "datetime.timedelta(days=1)"
      ]
     },
     "execution_count": 78,
     "metadata": {},
     "output_type": "execute_result"
    }
   ],
   "source": []
  }
 ],
 "metadata": {
  "kernelspec": {
   "display_name": "Python 3",
   "language": "python",
   "name": "python3"
  },
  "language_info": {
   "codemirror_mode": {
    "name": "ipython",
    "version": 3
   },
   "file_extension": ".py",
   "mimetype": "text/x-python",
   "name": "python",
   "nbconvert_exporter": "python",
   "pygments_lexer": "ipython3",
   "version": "3.9.13"
  },
  "orig_nbformat": 4,
  "vscode": {
   "interpreter": {
    "hash": "558e8ffcd555970f3c329552aff4de75d13efb89210a0ded4daea9ccf5209f76"
   }
  }
 },
 "nbformat": 4,
 "nbformat_minor": 2
}
